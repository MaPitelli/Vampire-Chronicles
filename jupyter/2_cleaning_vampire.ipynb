{
 "cells": [
  {
   "cell_type": "markdown",
   "metadata": {},
   "source": [
    "Here’s the list in English with all the key columns for your storytelling:\n",
    "```python\n",
    "key_columns = [\n",
    "    # Story 1: The Diversity of Vampire Clans\n",
    "    ‘Vampire Clan’, ‘Unique Ability’, ‘Personality Trait’, ‘Value or Belief’,\n",
    "    ‘Special Skill or Knowledge’, ‘Ambition’,\n",
    "    # Story 2: Power Analysis: Which Clan Dominates?\n",
    "    ‘Strength’, ‘Dexterity’, ‘Constitution’, ‘Intelligence’, ‘Wisdom’, ‘Charisma’,\n",
    "    ‘Physical Prowess’, ‘Health’, ‘Speed’, ‘Focus’,\n",
    "    # Story 3: Vampire Origin Map\n",
    "    ‘Country of Origin’, ‘Age’, ‘Birth Year’,\n",
    "    # Story 4: The Evolution of Power Over Time\n",
    "    ‘Birth Year’, ‘Age’,\n",
    "    # Story 5: The Impact of Values and Beliefs on Abilities\n",
    "    ‘Moral Alignment’, ‘Stealth’, ‘Combat Skill’, ‘Diplomacy Skill’,\n",
    "    # Story 6: The Battle Between Light and Darkness: Moral Alignments\n",
    "    ‘Moral Alignment’, ‘Fear or Weakness’, ‘Psychic Sensitivity’,\n",
    "    ‘Illusion Casting’, ‘Manipulation’,\n",
    "    # Story 7: The Relationship Between Fears and Weaknesses and Overall Power\n",
    "    ‘Fear or Weakness’, ‘Resilience’, ‘Stealth Skill’, ‘Endurance’,\n",
    "    ‘Luck’, ‘Resourcefulness’,\n",
    "    # Story 8: Special Abilities and Their Impact on Survival\n",
    "    ‘Survival Skills’, ‘Mystic Healing’, ‘Gloom Manipulation’,\n",
    "    ‘Telepathic Communication’, ‘Ancient Relics Knowledge’, ‘Arcane Crafting’,\n",
    "    # Story 9: The Ideal Vampire Profile: Skills and Traits\n",
    "    ‘Charm’, ‘Perception’, ‘Ferocity’, ‘Adaptability’, ‘Precision’,\n",
    "    # Story 10: The Art of Discretion: Master Vampires of Stealth\n",
    "    ‘Stealth Skill’, ‘Manipulation’, ‘Disguise Skill’, ‘Invisibility Skill’,\n",
    "    ‘Mystery Solving Ability’, ‘Investigation’, ‘Strategy’,\n",
    "    # Story 11: Vampires and Their Connection to Mysticism\n",
    "    ‘Arcane Knowledge’, ‘Mystic Aura’, ‘Blood Magic Expertise’,\n",
    "    ‘Psychic Shielding’, ‘Astral Projection’, ‘Dreamwalking’, ‘Mysticism’,\n",
    "    # Story 12: The Psychological Profile: Vampires and Their Mental Health\n",
    "    ‘Madness’, ‘Haunting Presence’,\n",
    "    # Story 13: Gothic Style: Fashion or Power?\n",
    "    ‘Gothic Style Preference’, ‘Charm’, ‘Beauty’, ‘Dark Humor’\n",
    "]"
   ]
  }
 ],
 "metadata": {
  "language_info": {
   "name": "python"
  }
 },
 "nbformat": 4,
 "nbformat_minor": 2
}
